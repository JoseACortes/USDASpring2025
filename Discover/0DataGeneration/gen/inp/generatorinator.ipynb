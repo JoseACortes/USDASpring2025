{
 "cells": [
  {
   "cell_type": "code",
   "execution_count": 56,
   "metadata": {},
   "outputs": [],
   "source": [
    "import pandas as pd\n",
    "import numpy as np"
   ]
  },
  {
   "cell_type": "code",
   "execution_count": 57,
   "metadata": {},
   "outputs": [],
   "source": [
    "import matplotlib.pyplot as plt"
   ]
  },
  {
   "cell_type": "code",
   "execution_count": 58,
   "metadata": {},
   "outputs": [],
   "source": [
    "import input_generator as gen"
   ]
  },
  {
   "cell_type": "code",
   "execution_count": 59,
   "metadata": {},
   "outputs": [],
   "source": [
    "# config\n",
    "x=15 # distance of detector from sheilding\n",
    "z=25 # height of detector from ground\n",
    "\n",
    "input_folder = '../../compute/input/'\n"
   ]
  },
  {
   "cell_type": "code",
   "execution_count": 60,
   "metadata": {},
   "outputs": [],
   "source": [
    "\n",
    "Ba_Sheilding_Material = gen.Material(\"Ba_Sheilding\", 3, {\n",
    "                                                        1001: -0.048535,\n",
    "                                                        5010: -0.034981,\n",
    "                                                        5011: -0.139923,\n",
    "                                                        8016: -0.776561,\n",
    "                                                        })\n",
    "Pb_Sheilding_Material = gen.Material(\"Pb_Sheilding\", 4, {\n",
    "                                                        82000: 1,\n",
    "                                                        })\n",
    "Fe_Sheilding_Material = gen.Material(\"Fe_Sheilding\", 5, {\n",
    "                                                        26000: 1,\n",
    "                                                        })\n",
    "Detector_Material = gen.Material(\"Detector\", 7, {\n",
    "                                                        11023: 0.5,\n",
    "                                                        53127: 0.5,\n",
    "                                                    })\n",
    "Air_Material = gen.Material(\"Air\", 12, {\n",
    "                                                        8016: -0.23,\n",
    "                                                        7014: -0.77,\n",
    "                                                    })\n",
    "Tire_Material = gen.Material(\"Tire\", 13, {\n",
    "                                                        1001: -0.118371,\n",
    "                                                        6000: -0.881629,\n",
    "                                                    })\n",
    "\n",
    "static_materials = [Ba_Sheilding_Material, Pb_Sheilding_Material, Fe_Sheilding_Material, Detector_Material, Air_Material, Tire_Material]"
   ]
  },
  {
   "cell_type": "code",
   "execution_count": 61,
   "metadata": {},
   "outputs": [
    {
     "data": {
      "text/plain": [
       "'m12 8016 -0.23 7014 -0.77\\n'"
      ]
     },
     "execution_count": 61,
     "metadata": {},
     "output_type": "execute_result"
    }
   ],
   "source": [
    "str(Air_Material)"
   ]
  },
  {
   "cell_type": "code",
   "execution_count": 62,
   "metadata": {},
   "outputs": [],
   "source": [
    "def place_shield(shield_ids, x, y, z):\n",
    "    \n",
    "    Front_Pb_shield_surface = gen.box(shield_ids[0], [x+37.5, y+0, z+5], 5, 60.1, 20)\n",
    "    Front_Fe_shield_1_surface = gen.box(shield_ids[1], [x+32.5, y+0, z+5], 5, 55, 20)\n",
    "    Front_Ba_shield_surface = gen.box(shield_ids[2], [x+25, y+0, z+5], 10, 55, 20)\n",
    "    Front_Fe_shield_2_surface = gen.box(shield_ids[3], [x+17.5, y+0, z+5], 5, 55, 20)\n",
    "    Right_Fe_shield_surface = gen.box(shield_ids[4], [x-8, y+16.25, z+5], 46, 2.5, 20)\n",
    "    Right_Ba_shield_surface = gen.box(shield_ids[5], [x-8, y+22.5, z+5], 46, 10, 20)\n",
    "    Left_Fe_shield_surface = gen.box(shield_ids[6], [x-8, y-16.25, z+5], 46, 2.5, 20)\n",
    "    Left_Ba_shield_surface = gen.box(shield_ids[7], [x-8, y-22.5, z+5], 46, 10, 20)\n",
    "\n",
    "    return [Front_Pb_shield_surface, Front_Fe_shield_1_surface, Front_Ba_shield_surface, Front_Fe_shield_2_surface, Right_Fe_shield_surface, Right_Ba_shield_surface, Left_Fe_shield_surface, Left_Ba_shield_surface]\n"
   ]
  },
  {
   "cell_type": "code",
   "execution_count": 63,
   "metadata": {},
   "outputs": [],
   "source": [
    "def place_wheel(wheel_ids, x=0, y=0, z=0, dir=(0, 1, 0)):\n",
    "    wheel_radius = 15.24\n",
    "    tire_radius = 29\n",
    "    tire_width = 25\n",
    "    tread_thickness = 1.3\n",
    "    tire_surface = gen.cylinder(wheel_ids[0], pos = (x, y, z), r = tire_radius, height = tire_width, dir=dir)\n",
    "    wheel_surface = gen.cylinder(wheel_ids[1], pos=(x, y, z), r = wheel_radius, height=tire_width, dir=dir)\n",
    "    \n",
    "    normal_dir = gen.normalize(dir)\n",
    "    inside_tire_fix = [tread_thickness*d for d in normal_dir]\n",
    "    inside_tire_xyz = [inside_tire_fix[i]+[x,y,z][i] for i in range(3)]\n",
    "    inside_tire_surface = gen.cylinder(wheel_ids[2], pos = inside_tire_xyz, r = tire_radius-tread_thickness, height = tire_width-tread_thickness*2, dir=dir)\n",
    "    \n",
    "    return [tire_surface, wheel_surface, inside_tire_surface]\n"
   ]
  },
  {
   "cell_type": "code",
   "execution_count": 64,
   "metadata": {},
   "outputs": [],
   "source": [
    "def place_detector(detector_ids, x, y, z):\n",
    "    detector_1_surface = gen.box(detector_ids[0], pos=(x, y+14.7, z), l=12.7, w=12.7, h=15.24)\n",
    "    detector_2_surface = gen.box(detector_ids[1], pos=(x, y, z), l=12.7, w=12.7, h=15.24)\n",
    "    detector_3_surface = gen.box(detector_ids[2], pos=(x, y-14.7, z), l=12.7, w=12.7, h=15.24)\n",
    "    return [detector_1_surface, detector_2_surface, detector_3_surface]\n"
   ]
  },
  {
   "cell_type": "code",
   "execution_count": 65,
   "metadata": {},
   "outputs": [],
   "source": [
    "Outer_Bound = gen.sphere(100000, [0, 0, 0], 800)\n",
    "Shield_Surfaces = place_shield([i for i in range(5000, 13000, 1000)], 0, 0, 0)\n",
    "static_surfaces = [Outer_Bound] + Shield_Surfaces"
   ]
  },
  {
   "cell_type": "code",
   "execution_count": 66,
   "metadata": {},
   "outputs": [],
   "source": [
    "detectors_surface = place_detector([2000, 3000, 4000], x+40, 0, 3)\n",
    "soil_surface = gen.box(1000, [0, 0, -25-z], 200, 200, 50)\n",
    "tire_1_surface = place_wheel([13000, 14000, 15000], 68, -75.7, 29-z, (0, 1, 0))\n",
    "tire_2_surface = place_wheel([16000, 17000, 18000], 68, 75.7, 29-z, (0, -1, 0))\n",
    "static_surfaces += detectors_surface + [soil_surface] + tire_1_surface + tire_2_surface"
   ]
  },
  {
   "cell_type": "code",
   "execution_count": 67,
   "metadata": {},
   "outputs": [],
   "source": [
    "soil_material_id = 1\n",
    "\n",
    "outside_world = gen.cell(101, 'outside_world', 0, None, '100000', importance='imp:n,p,e 0')\n",
    "air_cell = gen.cell(100, 'air', Air_Material.id, -0.00129, '#101 #1 #2 #3 #4 #5 #6 #7 #8 #9 #10 #11 #12 #13 #16', importance='imp:n,p,e 1')\n",
    "soil_cell = gen.cell(1, 'soil', soil_material_id, -1.05, '-1000', importance='imp:n,p,e 1')\n",
    "detector_1_cell = gen.cell(2, 'detector_1', Detector_Material.id, -3.67, '-2000', importance='imp:n,p,e 1')\n",
    "detector_2_cell = gen.cell(3, 'detector_2', Detector_Material.id, -3.67, '-3000', importance='imp:n,p,e 1')\n",
    "detector_3_cell = gen.cell(4, 'detector_3', Detector_Material.id, -3.67, '-4000', importance='imp:n,p,e 1')\n",
    "Front_Pb_shield_cell = gen.cell(5, 'Front_Pb_shield', Pb_Sheilding_Material.id, -11.35, '-5000', importance='imp:n,p,e 1')\n",
    "Front_Fe_shield_1_cell = gen.cell(6, 'Front_Fe_shield_1', Fe_Sheilding_Material.id, -7.874, '-6000', importance='imp:n,p,e 1')\n",
    "Front_Ba_shield_cell = gen.cell(7, 'Front_Ba_shield', Ba_Sheilding_Material.id, -1.5, '-7000', importance='imp:n,p,e 1')\n",
    "Front_Fe_shield_2_cell = gen.cell(8, 'Front_Fe_shield_2', Fe_Sheilding_Material.id, -7.874, '-8000', importance='imp:n,p,e 1')\n",
    "Right_Fe_shield_cell = gen.cell(9, 'Right_Fe_shield', Fe_Sheilding_Material.id, -7.874, '-9000', importance='imp:n,p,e 1')\n",
    "Right_Ba_shield_cell = gen.cell(10, 'Right_Ba_shield', Ba_Sheilding_Material.id, -1.5, '-10000', importance='imp:n,p,e 1')\n",
    "Left_Fe_shield_cell = gen.cell(11, 'Left_Fe_shield', Fe_Sheilding_Material.id, -7.874, '-11000', importance='imp:n,p,e 1')\n",
    "Left_Ba_shield_cell = gen.cell(12, 'Left_Ba_shield', Ba_Sheilding_Material.id, -1.5, '-12000', importance='imp:n,p,e 1')\n",
    "tire_1_cell = gen.cell(13, 'tire_1', Tire_Material.id, -0.92, '-13000 14000 15000', importance='imp:n,p,e 1')\n",
    "tire_2_cell = gen.cell(16, 'tire_2', Tire_Material.id, -0.92, '-16000 17000 18000', importance='imp:n,p,e 1')\n",
    "\n",
    "cells = [outside_world, soil_cell, detector_1_cell, detector_2_cell, detector_3_cell, Front_Pb_shield_cell, Front_Fe_shield_1_cell, Front_Ba_shield_cell, Front_Fe_shield_2_cell, Right_Fe_shield_cell, Right_Ba_shield_cell, Left_Fe_shield_cell, Left_Ba_shield_cell, tire_1_cell, tire_2_cell, air_cell]\n",
    "\n"
   ]
  },
  {
   "cell_type": "code",
   "execution_count": 68,
   "metadata": {},
   "outputs": [],
   "source": [
    "source = gen.source(1, (0, 0, 0), 14)"
   ]
  },
  {
   "cell_type": "code",
   "execution_count": 69,
   "metadata": {},
   "outputs": [],
   "source": [
    "gebs = [None, [-0.0073, 0.078, 0]]\n",
    "time_bins = ['50 1e5','0 150i 150']\n",
    "tmcs = [None, [0,50]]\n",
    "\n",
    "n_tallies = len(gebs) * len(time_bins) * len(tmcs)\n",
    "tal_headers = [i for i in range(1, n_tallies+1)]\n",
    "i=0\n",
    "tallies = []\n",
    "for geb in gebs:\n",
    "    for time_bin in time_bins:\n",
    "        for tmc in tmcs:\n",
    "            i+=1\n",
    "            tallies.append(\n",
    "                gen.tally(\n",
    "                    tally_id=(i*10)+6,\n",
    "                    tally_type=6,\n",
    "                    particle='e', \n",
    "                    cells='(2 3 4)',\n",
    "                    ))\n",
    "            tallies.append(\n",
    "                gen.tally(\n",
    "                    tally_id=(i*10)+8,\n",
    "                    tally_type=8,\n",
    "                    particle='p', \n",
    "                    cells='(2 3 4)',\n",
    "                    energy_bins='0 1e-5 932i 8.4295',\n",
    "                    time_bins=time_bin,\n",
    "                    geb=geb,\n",
    "                    tmc=tmc,\n",
    "                    phl=(i*10)+6,\n",
    "                    ))"
   ]
  },
  {
   "cell_type": "code",
   "execution_count": 70,
   "metadata": {},
   "outputs": [
    {
     "data": {
      "text/plain": [
       "'F88:p (2 3 4)\\ne88 0 1e-5 932i 8.4295\\nT88 0 150i 150\\nFT88 phl 1 86 1 0 geb -0.0073 0.078 0 tmc 0 50 \\n'"
      ]
     },
     "execution_count": 70,
     "metadata": {},
     "output_type": "execute_result"
    }
   ],
   "source": [
    "str(tallies[-1])"
   ]
  },
  {
   "cell_type": "code",
   "execution_count": 71,
   "metadata": {},
   "outputs": [],
   "source": [
    "# 1001: hydrogen\n",
    "# 6000: carbon\n",
    "# 14000: silicon\n",
    "# 8016: oxygen"
   ]
  },
  {
   "cell_type": "code",
   "execution_count": 72,
   "metadata": {},
   "outputs": [],
   "source": [
    "c0_compposition = {6000: -0.2700, 1001: -0.0075, 14000: -0.3092, 8016: -0.4133}\n",
    "c1_compposition = {6000: -0.1870, 1001: -0.0052, 14000: -0.3576, 8016: -0.4502}\n",
    "c2_compposition = {6000: -0.1150, 1001: -0.0032, 14000: -0.3996, 8016: -0.4822}\n",
    "c3_compposition = {6000: -0.0532, 1001: -0.0015, 14000: -0.4356, 8016: -0.5097}\n",
    "c4_compposition = {6000: -0.0258, 1001: -0.0007, 14000: -0.4516, 8016: -0.5219}\n",
    "c5_compposition = {6000: -0.0001, 1001: -0.0001, 14000: -0.4666, 8016: -0.5332}\n",
    "\n",
    "compositions = [c0_compposition, c1_compposition, c2_compposition, c3_compposition, c4_compposition, c5_compposition]"
   ]
  },
  {
   "cell_type": "code",
   "execution_count": 73,
   "metadata": {},
   "outputs": [],
   "source": [
    "# todo: generate compositions between 0 and 5\n",
    "# do this by generating midpoints between each composition\n",
    "\n",
    "pts = 4\n",
    "ks = list(compositions[0].keys())\n",
    "lc = len(ks)\n",
    "new_comps = []\n",
    "\n",
    "for i in range(len(compositions)-1):\n",
    "    new = []\n",
    "    for k in ks:\n",
    "        n = np.linspace(compositions[i][k], compositions[i+1][k], pts)[1:-1]\n",
    "        new.append(n)\n",
    "    for p in range(pts-2):\n",
    "        new_comp = {}\n",
    "        for j in range(lc):\n",
    "            new_comp[ks[j]] = new[j][p]\n",
    "        new_comps.append(new_comp)\n",
    "\n",
    "compositions += new_comps"
   ]
  },
  {
   "cell_type": "code",
   "execution_count": 74,
   "metadata": {},
   "outputs": [],
   "source": [
    "compositions = sorted(compositions, key=lambda x: x[14000])"
   ]
  },
  {
   "cell_type": "code",
   "execution_count": 75,
   "metadata": {},
   "outputs": [
    {
     "name": "stdout",
     "output_type": "stream",
     "text": [
      "failed: 0\n"
     ]
    }
   ],
   "source": [
    "# make sure the sum of the compositions is 1\n",
    "failed = 0\n",
    "for c in compositions:\n",
    "    s = sum(c.values())\n",
    "    if s != -1:\n",
    "        print(f\"failed: {s}\") \n",
    "        failed += 1\n",
    "print(f\"failed: {failed}\")"
   ]
  },
  {
   "cell_type": "code",
   "execution_count": 76,
   "metadata": {},
   "outputs": [
    {
     "data": {
      "text/plain": [
       "<Figure size 640x480 with 0 Axes>"
      ]
     },
     "metadata": {},
     "output_type": "display_data"
    },
    {
     "data": {
      "image/png": "[encoded data removed]",
      "text/plain": [
       "<Figure size 640x480 with 1 Axes>"
      ]
     },
     "metadata": {},
     "output_type": "display_data"
    }
   ],
   "source": [
    "plt.figure()\n",
    "pd.DataFrame(compositions).plot()\n",
    "plt.show()"
   ]
  },
  {
   "cell_type": "code",
   "execution_count": 77,
   "metadata": {},
   "outputs": [],
   "source": [
    "pts = 8\n",
    "ks = list(compositions[0].keys())\n",
    "lc = len(ks)\n",
    "new_comps = []\n",
    "\n",
    "for i in range(len(compositions)-1):\n",
    "    new = []\n",
    "    for k in ks:\n",
    "        n = np.linspace(compositions[i][k], compositions[i+1][k], pts)[1:-1]\n",
    "        new.append(n)\n",
    "    for p in range(pts-2):\n",
    "        new_comp = {}\n",
    "        for j in range(lc):\n",
    "            new_comp[ks[j]] = new[j][p]\n",
    "        new_comps.append(new_comp)\n",
    "new_comps = new_comps[:pts]\n",
    "compositions += new_comps"
   ]
  },
  {
   "cell_type": "code",
   "execution_count": 78,
   "metadata": {},
   "outputs": [],
   "source": [
    "compositions = sorted(compositions, key=lambda x: x[14000])"
   ]
  },
  {
   "cell_type": "code",
   "execution_count": 79,
   "metadata": {},
   "outputs": [
    {
     "name": "stdout",
     "output_type": "stream",
     "text": [
      "failed: 0\n"
     ]
    }
   ],
   "source": [
    "# make sure the sum of the compositions is 1\n",
    "failed = 0\n",
    "for c in compositions:\n",
    "    s = sum(c.values())\n",
    "    if s != -1:\n",
    "        print(f\"failed: {s}\") \n",
    "        failed += 1\n",
    "print(f\"failed: {failed}\")"
   ]
  },
  {
   "cell_type": "code",
   "execution_count": 80,
   "metadata": {},
   "outputs": [
    {
     "data": {
      "application/vnd.microsoft.datawrangler.viewer.v0+json": {
       "columns": [
        {
         "name": "index",
         "rawType": "int64",
         "type": "integer"
        },
        {
         "name": "6000",
         "rawType": "float64",
         "type": "float"
        },
        {
         "name": "1001",
         "rawType": "float64",
         "type": "float"
        },
        {
         "name": "14000",
         "rawType": "float64",
         "type": "float"
        },
        {
         "name": "8016",
         "rawType": "float64",
         "type": "float"
        },
        {
         "name": "name",
         "rawType": "object",
         "type": "string"
        }
       ],
       "conversionMethod": "pd.DataFrame",
       "ref": "fe80a5c0-ea0c-4982-b084-6cffc0dc4d5f",
       "rows": [
        [
         "0",
         "-0.0001",
         "-0.0001",
         "-0.4666",
         "-0.5332",
         "concentration_C_0001_Si_4666"
        ],
        [
         "1",
         "-0.001323809523809524",
         "-0.00012857142857142858",
         "-0.4658857142857143",
         "-0.5326619047619048",
         "concentration_C_001323809523809524_Si_4658857142857143"
        ],
        [
         "2",
         "-0.0025476190476190477",
         "-0.00015714285714285716",
         "-0.46517142857142857",
         "-0.5321238095238096",
         "concentration_C_0025476190476190477_Si_46517142857142857"
        ],
        [
         "3",
         "-0.003771428571428572",
         "-0.00018571428571428574",
         "-0.46445714285714285",
         "-0.5315857142857143",
         "concentration_C_003771428571428572_Si_46445714285714285"
        ],
        [
         "4",
         "-0.004995238095238096",
         "-0.00021428571428571433",
         "-0.4637428571428572",
         "-0.531047619047619",
         "concentration_C_004995238095238096_Si_4637428571428572"
        ],
        [
         "5",
         "-0.00621904761904762",
         "-0.0002428571428571429",
         "-0.46302857142857146",
         "-0.5305095238095238",
         "concentration_C_00621904761904762_Si_46302857142857146"
        ],
        [
         "6",
         "-0.007442857142857144",
         "-0.00027142857142857144",
         "-0.46231428571428573",
         "-0.5299714285714285",
         "concentration_C_007442857142857144_Si_46231428571428573"
        ],
        [
         "7",
         "-0.008666666666666666",
         "-0.00030000000000000003",
         "-0.4616",
         "-0.5294333333333333",
         "concentration_C_008666666666666666_Si_4616"
        ],
        [
         "8",
         "-0.00989047619047619",
         "-0.0003285714285714286",
         "-0.4608857142857143",
         "-0.5288952380952381",
         "concentration_C_00989047619047619_Si_4608857142857143"
        ],
        [
         "9",
         "-0.011114285714285714",
         "-0.00035714285714285714",
         "-0.46017142857142856",
         "-0.5283571428571429",
         "concentration_C_011114285714285714_Si_46017142857142856"
        ],
        [
         "10",
         "-0.017233333333333333",
         "-0.0005",
         "-0.4566",
         "-0.5256666666666667",
         "concentration_C_017233333333333333_Si_4566"
        ],
        [
         "11",
         "-0.0258",
         "-0.0007",
         "-0.4516",
         "-0.5219",
         "concentration_C_0258_Si_4516"
        ],
        [
         "12",
         "-0.03493333333333333",
         "-0.0009666666666666667",
         "-0.44626666666666664",
         "-0.5178333333333334",
         "concentration_C_03493333333333333_Si_44626666666666664"
        ],
        [
         "13",
         "-0.044066666666666664",
         "-0.0012333333333333332",
         "-0.44093333333333334",
         "-0.5137666666666667",
         "concentration_C_044066666666666664_Si_44093333333333334"
        ],
        [
         "14",
         "-0.0532",
         "-0.0015",
         "-0.4356",
         "-0.5097",
         "concentration_C_0532_Si_4356"
        ],
        [
         "15",
         "-0.0738",
         "-0.0020666666666666667",
         "-0.4236",
         "-0.5005333333333334",
         "concentration_C_0738_Si_4236"
        ],
        [
         "16",
         "-0.0944",
         "-0.0026333333333333334",
         "-0.4116",
         "-0.4913666666666667",
         "concentration_C_0944_Si_4116"
        ],
        [
         "17",
         "-0.115",
         "-0.0032",
         "-0.3996",
         "-0.4822",
         "concentration_C_115_Si_3996"
        ],
        [
         "18",
         "-0.139",
         "-0.0038666666666666667",
         "-0.3856",
         "-0.47153333333333336",
         "concentration_C_139_Si_3856"
        ],
        [
         "19",
         "-0.163",
         "-0.004533333333333334",
         "-0.3716",
         "-0.46086666666666665",
         "concentration_C_163_Si_3716"
        ],
        [
         "20",
         "-0.187",
         "-0.0052",
         "-0.3576",
         "-0.4502",
         "concentration_C_187_Si_3576"
        ],
        [
         "21",
         "-0.21466666666666667",
         "-0.005966666666666666",
         "-0.34146666666666664",
         "-0.4379",
         "concentration_C_21466666666666667_Si_34146666666666664"
        ],
        [
         "22",
         "-0.24233333333333335",
         "-0.006733333333333333",
         "-0.3253333333333333",
         "-0.4256",
         "concentration_C_24233333333333335_Si_3253333333333333"
        ],
        [
         "23",
         "-0.27",
         "-0.0075",
         "-0.3092",
         "-0.4133",
         "concentration_C_27_Si_3092"
        ]
       ],
       "shape": {
        "columns": 5,
        "rows": 24
       }
      },
      "text/html": [
       "<div>\n",
       "<style scoped>\n",
       "    .dataframe tbody tr th:only-of-type {\n",
       "        vertical-align: middle;\n",
       "    }\n",
       "\n",
       "    .dataframe tbody tr th {\n",
       "        vertical-align: top;\n",
       "    }\n",
       "\n",
       "    .dataframe thead th {\n",
       "        text-align: right;\n",
       "    }\n",
       "</style>\n",
       "<table border=\"1\" class=\"dataframe\">\n",
       "  <thead>\n",
       "    <tr style=\"text-align: right;\">\n",
       "      <th></th>\n",
       "      <th>6000</th>\n",
       "      <th>1001</th>\n",
       "      <th>14000</th>\n",
       "      <th>8016</th>\n",
       "      <th>name</th>\n",
       "    </tr>\n",
       "  </thead>\n",
       "  <tbody>\n",
       "    <tr>\n",
       "      <th>0</th>\n",
       "      <td>-0.000100</td>\n",
       "      <td>-0.000100</td>\n",
       "      <td>-0.466600</td>\n",
       "      <td>-0.533200</td>\n",
       "      <td>concentration_C_0001_Si_4666</td>\n",
       "    </tr>\n",
       "    <tr>\n",
       "      <th>1</th>\n",
       "      <td>-0.001324</td>\n",
       "      <td>-0.000129</td>\n",
       "      <td>-0.465886</td>\n",
       "      <td>-0.532662</td>\n",
       "      <td>concentration_C_001323809523809524_Si_46588571...</td>\n",
       "    </tr>\n",
       "    <tr>\n",
       "      <th>2</th>\n",
       "      <td>-0.002548</td>\n",
       "      <td>-0.000157</td>\n",
       "      <td>-0.465171</td>\n",
       "      <td>-0.532124</td>\n",
       "      <td>concentration_C_0025476190476190477_Si_4651714...</td>\n",
       "    </tr>\n",
       "    <tr>\n",
       "      <th>3</th>\n",
       "      <td>-0.003771</td>\n",
       "      <td>-0.000186</td>\n",
       "      <td>-0.464457</td>\n",
       "      <td>-0.531586</td>\n",
       "      <td>concentration_C_003771428571428572_Si_46445714...</td>\n",
       "    </tr>\n",
       "    <tr>\n",
       "      <th>4</th>\n",
       "      <td>-0.004995</td>\n",
       "      <td>-0.000214</td>\n",
       "      <td>-0.463743</td>\n",
       "      <td>-0.531048</td>\n",
       "      <td>concentration_C_004995238095238096_Si_46374285...</td>\n",
       "    </tr>\n",
       "    <tr>\n",
       "      <th>5</th>\n",
       "      <td>-0.006219</td>\n",
       "      <td>-0.000243</td>\n",
       "      <td>-0.463029</td>\n",
       "      <td>-0.530510</td>\n",
       "      <td>concentration_C_00621904761904762_Si_463028571...</td>\n",
       "    </tr>\n",
       "    <tr>\n",
       "      <th>6</th>\n",
       "      <td>-0.007443</td>\n",
       "      <td>-0.000271</td>\n",
       "      <td>-0.462314</td>\n",
       "      <td>-0.529971</td>\n",
       "      <td>concentration_C_007442857142857144_Si_46231428...</td>\n",
       "    </tr>\n",
       "    <tr>\n",
       "      <th>7</th>\n",
       "      <td>-0.008667</td>\n",
       "      <td>-0.000300</td>\n",
       "      <td>-0.461600</td>\n",
       "      <td>-0.529433</td>\n",
       "      <td>concentration_C_008666666666666666_Si_4616</td>\n",
       "    </tr>\n",
       "    <tr>\n",
       "      <th>8</th>\n",
       "      <td>-0.009890</td>\n",
       "      <td>-0.000329</td>\n",
       "      <td>-0.460886</td>\n",
       "      <td>-0.528895</td>\n",
       "      <td>concentration_C_00989047619047619_Si_460885714...</td>\n",
       "    </tr>\n",
       "    <tr>\n",
       "      <th>9</th>\n",
       "      <td>-0.011114</td>\n",
       "      <td>-0.000357</td>\n",
       "      <td>-0.460171</td>\n",
       "      <td>-0.528357</td>\n",
       "      <td>concentration_C_011114285714285714_Si_46017142...</td>\n",
       "    </tr>\n",
       "    <tr>\n",
       "      <th>10</th>\n",
       "      <td>-0.017233</td>\n",
       "      <td>-0.000500</td>\n",
       "      <td>-0.456600</td>\n",
       "      <td>-0.525667</td>\n",
       "      <td>concentration_C_017233333333333333_Si_4566</td>\n",
       "    </tr>\n",
       "    <tr>\n",
       "      <th>11</th>\n",
       "      <td>-0.025800</td>\n",
       "      <td>-0.000700</td>\n",
       "      <td>-0.451600</td>\n",
       "      <td>-0.521900</td>\n",
       "      <td>concentration_C_0258_Si_4516</td>\n",
       "    </tr>\n",
       "    <tr>\n",
       "      <th>12</th>\n",
       "      <td>-0.034933</td>\n",
       "      <td>-0.000967</td>\n",
       "      <td>-0.446267</td>\n",
       "      <td>-0.517833</td>\n",
       "      <td>concentration_C_03493333333333333_Si_446266666...</td>\n",
       "    </tr>\n",
       "    <tr>\n",
       "      <th>13</th>\n",
       "      <td>-0.044067</td>\n",
       "      <td>-0.001233</td>\n",
       "      <td>-0.440933</td>\n",
       "      <td>-0.513767</td>\n",
       "      <td>concentration_C_044066666666666664_Si_44093333...</td>\n",
       "    </tr>\n",
       "    <tr>\n",
       "      <th>14</th>\n",
       "      <td>-0.053200</td>\n",
       "      <td>-0.001500</td>\n",
       "      <td>-0.435600</td>\n",
       "      <td>-0.509700</td>\n",
       "      <td>concentration_C_0532_Si_4356</td>\n",
       "    </tr>\n",
       "    <tr>\n",
       "      <th>15</th>\n",
       "      <td>-0.073800</td>\n",
       "      <td>-0.002067</td>\n",
       "      <td>-0.423600</td>\n",
       "      <td>-0.500533</td>\n",
       "      <td>concentration_C_0738_Si_4236</td>\n",
       "    </tr>\n",
       "    <tr>\n",
       "      <th>16</th>\n",
       "      <td>-0.094400</td>\n",
       "      <td>-0.002633</td>\n",
       "      <td>-0.411600</td>\n",
       "      <td>-0.491367</td>\n",
       "      <td>concentration_C_0944_Si_4116</td>\n",
       "    </tr>\n",
       "    <tr>\n",
       "      <th>17</th>\n",
       "      <td>-0.115000</td>\n",
       "      <td>-0.003200</td>\n",
       "      <td>-0.399600</td>\n",
       "      <td>-0.482200</td>\n",
       "      <td>concentration_C_115_Si_3996</td>\n",
       "    </tr>\n",
       "    <tr>\n",
       "      <th>18</th>\n",
       "      <td>-0.139000</td>\n",
       "      <td>-0.003867</td>\n",
       "      <td>-0.385600</td>\n",
       "      <td>-0.471533</td>\n",
       "      <td>concentration_C_139_Si_3856</td>\n",
       "    </tr>\n",
       "    <tr>\n",
       "      <th>19</th>\n",
       "      <td>-0.163000</td>\n",
       "      <td>-0.004533</td>\n",
       "      <td>-0.371600</td>\n",
       "      <td>-0.460867</td>\n",
       "      <td>concentration_C_163_Si_3716</td>\n",
       "    </tr>\n",
       "    <tr>\n",
       "      <th>20</th>\n",
       "      <td>-0.187000</td>\n",
       "      <td>-0.005200</td>\n",
       "      <td>-0.357600</td>\n",
       "      <td>-0.450200</td>\n",
       "      <td>concentration_C_187_Si_3576</td>\n",
       "    </tr>\n",
       "    <tr>\n",
       "      <th>21</th>\n",
       "      <td>-0.214667</td>\n",
       "      <td>-0.005967</td>\n",
       "      <td>-0.341467</td>\n",
       "      <td>-0.437900</td>\n",
       "      <td>concentration_C_21466666666666667_Si_341466666...</td>\n",
       "    </tr>\n",
       "    <tr>\n",
       "      <th>22</th>\n",
       "      <td>-0.242333</td>\n",
       "      <td>-0.006733</td>\n",
       "      <td>-0.325333</td>\n",
       "      <td>-0.425600</td>\n",
       "      <td>concentration_C_24233333333333335_Si_325333333...</td>\n",
       "    </tr>\n",
       "    <tr>\n",
       "      <th>23</th>\n",
       "      <td>-0.270000</td>\n",
       "      <td>-0.007500</td>\n",
       "      <td>-0.309200</td>\n",
       "      <td>-0.413300</td>\n",
       "      <td>concentration_C_27_Si_3092</td>\n",
       "    </tr>\n",
       "  </tbody>\n",
       "</table>\n",
       "</div>"
      ],
      "text/plain": [
       "        6000      1001     14000      8016  \\\n",
       "0  -0.000100 -0.000100 -0.466600 -0.533200   \n",
       "1  -0.001324 -0.000129 -0.465886 -0.532662   \n",
       "2  -0.002548 -0.000157 -0.465171 -0.532124   \n",
       "3  -0.003771 -0.000186 -0.464457 -0.531586   \n",
       "4  -0.004995 -0.000214 -0.463743 -0.531048   \n",
       "5  -0.006219 -0.000243 -0.463029 -0.530510   \n",
       "6  -0.007443 -0.000271 -0.462314 -0.529971   \n",
       "7  -0.008667 -0.000300 -0.461600 -0.529433   \n",
       "8  -0.009890 -0.000329 -0.460886 -0.528895   \n",
       "9  -0.011114 -0.000357 -0.460171 -0.528357   \n",
       "10 -0.017233 -0.000500 -0.456600 -0.525667   \n",
       "11 -0.025800 -0.000700 -0.451600 -0.521900   \n",
       "12 -0.034933 -0.000967 -0.446267 -0.517833   \n",
       "13 -0.044067 -0.001233 -0.440933 -0.513767   \n",
       "14 -0.053200 -0.001500 -0.435600 -0.509700   \n",
       "15 -0.073800 -0.002067 -0.423600 -0.500533   \n",
       "16 -0.094400 -0.002633 -0.411600 -0.491367   \n",
       "17 -0.115000 -0.003200 -0.399600 -0.482200   \n",
       "18 -0.139000 -0.003867 -0.385600 -0.471533   \n",
       "19 -0.163000 -0.004533 -0.371600 -0.460867   \n",
       "20 -0.187000 -0.005200 -0.357600 -0.450200   \n",
       "21 -0.214667 -0.005967 -0.341467 -0.437900   \n",
       "22 -0.242333 -0.006733 -0.325333 -0.425600   \n",
       "23 -0.270000 -0.007500 -0.309200 -0.413300   \n",
       "\n",
       "                                                 name  \n",
       "0                        concentration_C_0001_Si_4666  \n",
       "1   concentration_C_001323809523809524_Si_46588571...  \n",
       "2   concentration_C_0025476190476190477_Si_4651714...  \n",
       "3   concentration_C_003771428571428572_Si_46445714...  \n",
       "4   concentration_C_004995238095238096_Si_46374285...  \n",
       "5   concentration_C_00621904761904762_Si_463028571...  \n",
       "6   concentration_C_007442857142857144_Si_46231428...  \n",
       "7          concentration_C_008666666666666666_Si_4616  \n",
       "8   concentration_C_00989047619047619_Si_460885714...  \n",
       "9   concentration_C_011114285714285714_Si_46017142...  \n",
       "10         concentration_C_017233333333333333_Si_4566  \n",
       "11                       concentration_C_0258_Si_4516  \n",
       "12  concentration_C_03493333333333333_Si_446266666...  \n",
       "13  concentration_C_044066666666666664_Si_44093333...  \n",
       "14                       concentration_C_0532_Si_4356  \n",
       "15                       concentration_C_0738_Si_4236  \n",
       "16                       concentration_C_0944_Si_4116  \n",
       "17                        concentration_C_115_Si_3996  \n",
       "18                        concentration_C_139_Si_3856  \n",
       "19                        concentration_C_163_Si_3716  \n",
       "20                        concentration_C_187_Si_3576  \n",
       "21  concentration_C_21466666666666667_Si_341466666...  \n",
       "22  concentration_C_24233333333333335_Si_325333333...  \n",
       "23                         concentration_C_27_Si_3092  "
      ]
     },
     "execution_count": 80,
     "metadata": {},
     "output_type": "execute_result"
    }
   ],
   "source": [
    "names = []\n",
    "\n",
    "\n",
    "surfaces = static_surfaces\n",
    "cells = cells\n",
    "\n",
    "for _, composition in enumerate(compositions):\n",
    "\n",
    "    carbon = composition[6000]\n",
    "    silicon = composition[14000]\n",
    "\n",
    "    title = f\"concentration_C_{str(-carbon)[2:]}_Si_{str(-silicon)[2:]}\"\n",
    "\n",
    "    filename = input_folder+title+'.inp'\n",
    "    materials = static_materials.copy()\n",
    "\n",
    "    Soil_Material = gen.Material(\"Soil\", 1, composition, '.01')\n",
    "    materials.append(Soil_Material)\n",
    "\n",
    "    mcnp = gen.sim(\n",
    "        title, \n",
    "        nps=1e9,\n",
    "        prdmp=[-60, -60, -1],\n",
    "        source=source,\n",
    "        tallies=tallies,\n",
    "        surfaces=surfaces,\n",
    "        materials=materials,\n",
    "        cells=cells,\n",
    "        )\n",
    "    \n",
    "    with open(filename, 'w') as f:\n",
    "        f.write(str(mcnp))\n",
    "        f.close()\n",
    "\n",
    "    names.append(title)\n",
    "\n",
    "df = pd.DataFrame(compositions)\n",
    "df['name'] = names\n",
    "df.to_csv('filenames.csv', index=False)  \n",
    "df"
   ]
  },
  {
   "cell_type": "code",
   "execution_count": null,
   "metadata": {},
   "outputs": [],
   "source": []
  }
 ],
 "metadata": {
  "kernelspec": {
   "display_name": "Python 3",
   "language": "python",
   "name": "python3"
  },
  "language_info": {
   "codemirror_mode": {
    "name": "ipython",
    "version": 3
   },
   "file_extension": ".py",
   "mimetype": "text/x-python",
   "name": "python",
   "nbconvert_exporter": "python",
   "pygments_lexer": "ipython3",
   "version": "3.10.12"
  }
 },
 "nbformat": 4,
 "nbformat_minor": 2
}
