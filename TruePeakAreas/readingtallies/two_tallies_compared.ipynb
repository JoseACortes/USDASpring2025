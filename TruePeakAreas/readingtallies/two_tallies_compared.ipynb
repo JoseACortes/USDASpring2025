{
 "cells": [
  {
   "cell_type": "code",
   "execution_count": 1,
   "metadata": {},
   "outputs": [],
   "source": [
    "from mcnptools import Mctal, MctalTally\n",
    "import numpy as np\n",
    "import matplotlib.pyplot as plt"
   ]
  },
  {
   "cell_type": "code",
   "execution_count": 8,
   "metadata": {},
   "outputs": [],
   "source": [
    "tally_folder = '../gettingtallies/compute/output/mctal/'\n",
    "si_tally_file = tally_folder+'tnm_si.mctal'\n",
    "al203_tally_file = tally_folder+'tnm_al203.mctal'"
   ]
  },
  {
   "cell_type": "code",
   "execution_count": 9,
   "metadata": {},
   "outputs": [],
   "source": [
    "si_m = Mctal(si_tally_file)\n",
    "al203_m = Mctal(al203_tally_file)\n",
    "tfc = MctalTally.TFC"
   ]
  },
  {
   "cell_type": "code",
   "execution_count": null,
   "metadata": {},
   "outputs": [],
   "source": [
    "t6 = si_m.GetTally(6)\n",
    "u_bins = t6.GetUBins()\n",
    "print('u_bins', u_bins)\n",
    "x = t6.GetEBins()\n",
    "tfcbins = t6.GetTFCBins()\n",
    "# switch 0s in tfc bins list to -1s\n",
    "tfcbins = [1 if x == 0 else x for x in tfcbins]\n",
    "tally_6 = np.zeros(tfcbins)\n",
    "tfcbins = t6.GetTFCBins()\n",
    "for u in range(tfcbins[2]):\n",
    "    for e in range(tfcbins[6]):\n",
    "        tally_6[0, 0, u, 0, 0, 0, e, 0] = t6.GetValue(tfc, tfc, u, tfc, tfc, tfc, e, tfc)"
   ]
  }
 ],
 "metadata": {
  "kernelspec": {
   "display_name": "Python 3",
   "language": "python",
   "name": "python3"
  },
  "language_info": {
   "codemirror_mode": {
    "name": "ipython",
    "version": 3
   },
   "file_extension": ".py",
   "mimetype": "text/x-python",
   "name": "python",
   "nbconvert_exporter": "python",
   "pygments_lexer": "ipython3",
   "version": "3.10.12"
  }
 },
 "nbformat": 4,
 "nbformat_minor": 2
}
